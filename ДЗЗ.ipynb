{
 "cells": [
  {
   "cell_type": "code",
   "execution_count": 81,
   "id": "d1bdcfa6-1ee8-427f-9e88-0d2e5efcc606",
   "metadata": {},
   "outputs": [],
   "source": [
    "import pandas as pd"
   ]
  },
  {
   "cell_type": "code",
   "execution_count": 83,
   "id": "4e0e86f6-cb0c-48f9-b624-d0c3a366c497",
   "metadata": {},
   "outputs": [
    {
     "name": "stdout",
     "output_type": "stream",
     "text": [
      "Requirement already satisfied: psycopg2 in c:\\programdata\\anaconda3\\lib\\site-packages (2.9.9)\n",
      "Note: you may need to restart the kernel to use updated packages.\n"
     ]
    }
   ],
   "source": [
    "pip install psycopg2"
   ]
  },
  {
   "cell_type": "code",
   "execution_count": 84,
   "id": "afdc29ac-9d7a-4736-96f0-4779f83643dd",
   "metadata": {},
   "outputs": [
    {
     "data": {
      "text/plain": [
       "'2.2.2'"
      ]
     },
     "execution_count": 84,
     "metadata": {},
     "output_type": "execute_result"
    }
   ],
   "source": [
    "pd.__version__"
   ]
  },
  {
   "cell_type": "code",
   "execution_count": 87,
   "id": "c074e479-f03f-4db0-a7d0-71c5908dbf8b",
   "metadata": {},
   "outputs": [],
   "source": [
    "import numpy as np"
   ]
  },
  {
   "cell_type": "code",
   "execution_count": 89,
   "id": "a5f0aa9d-ae67-40d5-beab-2578d0ab8d7e",
   "metadata": {},
   "outputs": [
    {
     "data": {
      "text/plain": [
       "'1.26.4'"
      ]
     },
     "execution_count": 89,
     "metadata": {},
     "output_type": "execute_result"
    }
   ],
   "source": [
    "np.__version__"
   ]
  },
  {
   "cell_type": "code",
   "execution_count": 124,
   "id": "bafa08e2-8716-4888-a382-b62de628f0db",
   "metadata": {},
   "outputs": [
    {
     "name": "stderr",
     "output_type": "stream",
     "text": [
      "C:\\Users\\e.sytnik\\AppData\\Local\\Temp\\ipykernel_3256\\1658820266.py:3: UserWarning: pandas only supports SQLAlchemy connectable (engine/connection) or database string URI or sqlite3 DBAPI2 connection. Other DBAPI2 objects are not tested. Please consider using SQLAlchemy.\n",
      "  db = pd.read_sql('select * from film', con=engine)\n"
     ]
    }
   ],
   "source": [
    "import psycopg2\n",
    "engine = psycopg2.connect(\"dbname='dvdrental' user='postgres' host='127.0.0.1' port='5432' password='Lingdoc83'\" )\n",
    "db = pd.read_sql('select * from film', con=engine)"
   ]
  },
  {
   "cell_type": "code",
   "execution_count": 126,
   "id": "8778ad68-424a-412d-826d-3c0bb6bd1240",
   "metadata": {},
   "outputs": [
    {
     "data": {
      "text/html": [
       "<div>\n",
       "<style scoped>\n",
       "    .dataframe tbody tr th:only-of-type {\n",
       "        vertical-align: middle;\n",
       "    }\n",
       "\n",
       "    .dataframe tbody tr th {\n",
       "        vertical-align: top;\n",
       "    }\n",
       "\n",
       "    .dataframe thead th {\n",
       "        text-align: right;\n",
       "    }\n",
       "</style>\n",
       "<table border=\"1\" class=\"dataframe\">\n",
       "  <thead>\n",
       "    <tr style=\"text-align: right;\">\n",
       "      <th></th>\n",
       "      <th>film_id</th>\n",
       "      <th>title</th>\n",
       "      <th>description</th>\n",
       "      <th>release_year</th>\n",
       "      <th>language_id</th>\n",
       "      <th>rental_duration</th>\n",
       "      <th>rental_rate</th>\n",
       "      <th>length</th>\n",
       "      <th>replacement_cost</th>\n",
       "      <th>rating</th>\n",
       "      <th>last_update</th>\n",
       "      <th>special_features</th>\n",
       "      <th>fulltext</th>\n",
       "    </tr>\n",
       "  </thead>\n",
       "  <tbody>\n",
       "    <tr>\n",
       "      <th>0</th>\n",
       "      <td>133</td>\n",
       "      <td>Chamber Italian</td>\n",
       "      <td>A Fateful Reflection of a Moose And a Husband ...</td>\n",
       "      <td>2006</td>\n",
       "      <td>1</td>\n",
       "      <td>7</td>\n",
       "      <td>4.99</td>\n",
       "      <td>117</td>\n",
       "      <td>14.99</td>\n",
       "      <td>NC-17</td>\n",
       "      <td>2013-05-26 14:50:58.951</td>\n",
       "      <td>[Trailers]</td>\n",
       "      <td>'chamber':1 'fate':4 'husband':11 'italian':2 ...</td>\n",
       "    </tr>\n",
       "    <tr>\n",
       "      <th>1</th>\n",
       "      <td>384</td>\n",
       "      <td>Grosse Wonderful</td>\n",
       "      <td>A Epic Drama of a Cat And a Explorer who must ...</td>\n",
       "      <td>2006</td>\n",
       "      <td>1</td>\n",
       "      <td>5</td>\n",
       "      <td>4.99</td>\n",
       "      <td>49</td>\n",
       "      <td>19.99</td>\n",
       "      <td>R</td>\n",
       "      <td>2013-05-26 14:50:58.951</td>\n",
       "      <td>[Behind the Scenes]</td>\n",
       "      <td>'australia':18 'cat':8 'drama':5 'epic':4 'exp...</td>\n",
       "    </tr>\n",
       "    <tr>\n",
       "      <th>2</th>\n",
       "      <td>8</td>\n",
       "      <td>Airport Pollock</td>\n",
       "      <td>A Epic Tale of a Moose And a Girl who must Con...</td>\n",
       "      <td>2006</td>\n",
       "      <td>1</td>\n",
       "      <td>6</td>\n",
       "      <td>4.99</td>\n",
       "      <td>54</td>\n",
       "      <td>15.99</td>\n",
       "      <td>R</td>\n",
       "      <td>2013-05-26 14:50:58.951</td>\n",
       "      <td>[Trailers]</td>\n",
       "      <td>'airport':1 'ancient':18 'confront':14 'epic':...</td>\n",
       "    </tr>\n",
       "    <tr>\n",
       "      <th>3</th>\n",
       "      <td>98</td>\n",
       "      <td>Bright Encounters</td>\n",
       "      <td>A Fateful Yarn of a Lumberjack And a Feminist ...</td>\n",
       "      <td>2006</td>\n",
       "      <td>1</td>\n",
       "      <td>4</td>\n",
       "      <td>4.99</td>\n",
       "      <td>73</td>\n",
       "      <td>12.99</td>\n",
       "      <td>PG-13</td>\n",
       "      <td>2013-05-26 14:50:58.951</td>\n",
       "      <td>[Trailers]</td>\n",
       "      <td>'boat':20 'bright':1 'conquer':14 'encount':2 ...</td>\n",
       "    </tr>\n",
       "    <tr>\n",
       "      <th>4</th>\n",
       "      <td>1</td>\n",
       "      <td>Academy Dinosaur</td>\n",
       "      <td>A Epic Drama of a Feminist And a Mad Scientist...</td>\n",
       "      <td>2006</td>\n",
       "      <td>1</td>\n",
       "      <td>6</td>\n",
       "      <td>0.99</td>\n",
       "      <td>86</td>\n",
       "      <td>20.99</td>\n",
       "      <td>PG</td>\n",
       "      <td>2013-05-26 14:50:58.951</td>\n",
       "      <td>[Deleted Scenes, Behind the Scenes]</td>\n",
       "      <td>'academi':1 'battl':15 'canadian':20 'dinosaur...</td>\n",
       "    </tr>\n",
       "    <tr>\n",
       "      <th>...</th>\n",
       "      <td>...</td>\n",
       "      <td>...</td>\n",
       "      <td>...</td>\n",
       "      <td>...</td>\n",
       "      <td>...</td>\n",
       "      <td>...</td>\n",
       "      <td>...</td>\n",
       "      <td>...</td>\n",
       "      <td>...</td>\n",
       "      <td>...</td>\n",
       "      <td>...</td>\n",
       "      <td>...</td>\n",
       "      <td>...</td>\n",
       "    </tr>\n",
       "    <tr>\n",
       "      <th>995</th>\n",
       "      <td>996</td>\n",
       "      <td>Young Language</td>\n",
       "      <td>A Unbelieveable Yarn of a Boat And a Database ...</td>\n",
       "      <td>2006</td>\n",
       "      <td>1</td>\n",
       "      <td>6</td>\n",
       "      <td>0.99</td>\n",
       "      <td>183</td>\n",
       "      <td>9.99</td>\n",
       "      <td>G</td>\n",
       "      <td>2013-05-26 14:50:58.951</td>\n",
       "      <td>[Trailers, Behind the Scenes]</td>\n",
       "      <td>'administr':12 'boat':8 'boy':17 'databas':11 ...</td>\n",
       "    </tr>\n",
       "    <tr>\n",
       "      <th>996</th>\n",
       "      <td>997</td>\n",
       "      <td>Youth Kick</td>\n",
       "      <td>A Touching Drama of a Teacher And a Cat who mu...</td>\n",
       "      <td>2006</td>\n",
       "      <td>1</td>\n",
       "      <td>4</td>\n",
       "      <td>0.99</td>\n",
       "      <td>179</td>\n",
       "      <td>14.99</td>\n",
       "      <td>NC-17</td>\n",
       "      <td>2013-05-26 14:50:58.951</td>\n",
       "      <td>[Trailers, Behind the Scenes]</td>\n",
       "      <td>'boat':22 'cat':11 'challeng':14 'drama':5 'ki...</td>\n",
       "    </tr>\n",
       "    <tr>\n",
       "      <th>997</th>\n",
       "      <td>998</td>\n",
       "      <td>Zhivago Core</td>\n",
       "      <td>A Fateful Yarn of a Composer And a Man who mus...</td>\n",
       "      <td>2006</td>\n",
       "      <td>1</td>\n",
       "      <td>6</td>\n",
       "      <td>0.99</td>\n",
       "      <td>105</td>\n",
       "      <td>10.99</td>\n",
       "      <td>NC-17</td>\n",
       "      <td>2013-05-26 14:50:58.951</td>\n",
       "      <td>[Deleted Scenes]</td>\n",
       "      <td>'boy':16 'canadian':19 'compos':8 'core':2 'fa...</td>\n",
       "    </tr>\n",
       "    <tr>\n",
       "      <th>998</th>\n",
       "      <td>999</td>\n",
       "      <td>Zoolander Fiction</td>\n",
       "      <td>A Fateful Reflection of a Waitress And a Boat ...</td>\n",
       "      <td>2006</td>\n",
       "      <td>1</td>\n",
       "      <td>5</td>\n",
       "      <td>2.99</td>\n",
       "      <td>101</td>\n",
       "      <td>28.99</td>\n",
       "      <td>R</td>\n",
       "      <td>2013-05-26 14:50:58.951</td>\n",
       "      <td>[Trailers, Deleted Scenes]</td>\n",
       "      <td>'ancient':19 'boat':11 'china':20 'discov':14 ...</td>\n",
       "    </tr>\n",
       "    <tr>\n",
       "      <th>999</th>\n",
       "      <td>1000</td>\n",
       "      <td>Zorro Ark</td>\n",
       "      <td>A Intrepid Panorama of a Mad Scientist And a B...</td>\n",
       "      <td>2006</td>\n",
       "      <td>1</td>\n",
       "      <td>3</td>\n",
       "      <td>4.99</td>\n",
       "      <td>50</td>\n",
       "      <td>18.99</td>\n",
       "      <td>NC-17</td>\n",
       "      <td>2013-05-26 14:50:58.951</td>\n",
       "      <td>[Trailers, Commentaries, Behind the Scenes]</td>\n",
       "      <td>'ark':2 'boy':12,17 'intrepid':4 'mad':8 'mona...</td>\n",
       "    </tr>\n",
       "  </tbody>\n",
       "</table>\n",
       "<p>1000 rows × 13 columns</p>\n",
       "</div>"
      ],
      "text/plain": [
       "     film_id              title  \\\n",
       "0        133    Chamber Italian   \n",
       "1        384   Grosse Wonderful   \n",
       "2          8    Airport Pollock   \n",
       "3         98  Bright Encounters   \n",
       "4          1   Academy Dinosaur   \n",
       "..       ...                ...   \n",
       "995      996     Young Language   \n",
       "996      997         Youth Kick   \n",
       "997      998       Zhivago Core   \n",
       "998      999  Zoolander Fiction   \n",
       "999     1000          Zorro Ark   \n",
       "\n",
       "                                           description  release_year  \\\n",
       "0    A Fateful Reflection of a Moose And a Husband ...          2006   \n",
       "1    A Epic Drama of a Cat And a Explorer who must ...          2006   \n",
       "2    A Epic Tale of a Moose And a Girl who must Con...          2006   \n",
       "3    A Fateful Yarn of a Lumberjack And a Feminist ...          2006   \n",
       "4    A Epic Drama of a Feminist And a Mad Scientist...          2006   \n",
       "..                                                 ...           ...   \n",
       "995  A Unbelieveable Yarn of a Boat And a Database ...          2006   \n",
       "996  A Touching Drama of a Teacher And a Cat who mu...          2006   \n",
       "997  A Fateful Yarn of a Composer And a Man who mus...          2006   \n",
       "998  A Fateful Reflection of a Waitress And a Boat ...          2006   \n",
       "999  A Intrepid Panorama of a Mad Scientist And a B...          2006   \n",
       "\n",
       "     language_id  rental_duration  rental_rate  length  replacement_cost  \\\n",
       "0              1                7         4.99     117             14.99   \n",
       "1              1                5         4.99      49             19.99   \n",
       "2              1                6         4.99      54             15.99   \n",
       "3              1                4         4.99      73             12.99   \n",
       "4              1                6         0.99      86             20.99   \n",
       "..           ...              ...          ...     ...               ...   \n",
       "995            1                6         0.99     183              9.99   \n",
       "996            1                4         0.99     179             14.99   \n",
       "997            1                6         0.99     105             10.99   \n",
       "998            1                5         2.99     101             28.99   \n",
       "999            1                3         4.99      50             18.99   \n",
       "\n",
       "    rating             last_update  \\\n",
       "0    NC-17 2013-05-26 14:50:58.951   \n",
       "1        R 2013-05-26 14:50:58.951   \n",
       "2        R 2013-05-26 14:50:58.951   \n",
       "3    PG-13 2013-05-26 14:50:58.951   \n",
       "4       PG 2013-05-26 14:50:58.951   \n",
       "..     ...                     ...   \n",
       "995      G 2013-05-26 14:50:58.951   \n",
       "996  NC-17 2013-05-26 14:50:58.951   \n",
       "997  NC-17 2013-05-26 14:50:58.951   \n",
       "998      R 2013-05-26 14:50:58.951   \n",
       "999  NC-17 2013-05-26 14:50:58.951   \n",
       "\n",
       "                                special_features  \\\n",
       "0                                     [Trailers]   \n",
       "1                            [Behind the Scenes]   \n",
       "2                                     [Trailers]   \n",
       "3                                     [Trailers]   \n",
       "4            [Deleted Scenes, Behind the Scenes]   \n",
       "..                                           ...   \n",
       "995                [Trailers, Behind the Scenes]   \n",
       "996                [Trailers, Behind the Scenes]   \n",
       "997                             [Deleted Scenes]   \n",
       "998                   [Trailers, Deleted Scenes]   \n",
       "999  [Trailers, Commentaries, Behind the Scenes]   \n",
       "\n",
       "                                              fulltext  \n",
       "0    'chamber':1 'fate':4 'husband':11 'italian':2 ...  \n",
       "1    'australia':18 'cat':8 'drama':5 'epic':4 'exp...  \n",
       "2    'airport':1 'ancient':18 'confront':14 'epic':...  \n",
       "3    'boat':20 'bright':1 'conquer':14 'encount':2 ...  \n",
       "4    'academi':1 'battl':15 'canadian':20 'dinosaur...  \n",
       "..                                                 ...  \n",
       "995  'administr':12 'boat':8 'boy':17 'databas':11 ...  \n",
       "996  'boat':22 'cat':11 'challeng':14 'drama':5 'ki...  \n",
       "997  'boy':16 'canadian':19 'compos':8 'core':2 'fa...  \n",
       "998  'ancient':19 'boat':11 'china':20 'discov':14 ...  \n",
       "999  'ark':2 'boy':12,17 'intrepid':4 'mad':8 'mona...  \n",
       "\n",
       "[1000 rows x 13 columns]"
      ]
     },
     "execution_count": 126,
     "metadata": {},
     "output_type": "execute_result"
    }
   ],
   "source": [
    "db"
   ]
  },
  {
   "cell_type": "code",
   "execution_count": 128,
   "id": "54ed9fa3-3907-4325-a261-1351d94565ba",
   "metadata": {},
   "outputs": [
    {
     "data": {
      "text/plain": [
       "film_id                      int64\n",
       "title                       object\n",
       "description                 object\n",
       "release_year                 int64\n",
       "language_id                  int64\n",
       "rental_duration              int64\n",
       "rental_rate                float64\n",
       "length                       int64\n",
       "replacement_cost           float64\n",
       "rating                      object\n",
       "last_update         datetime64[ns]\n",
       "special_features            object\n",
       "fulltext                    object\n",
       "dtype: object"
      ]
     },
     "execution_count": 128,
     "metadata": {},
     "output_type": "execute_result"
    }
   ],
   "source": [
    "db.dtypes"
   ]
  },
  {
   "cell_type": "code",
   "execution_count": 130,
   "id": "9fafe0d1-395c-4d9c-bd11-256f1ee54ebc",
   "metadata": {},
   "outputs": [
    {
     "data": {
      "text/plain": [
       "(1000, 13)"
      ]
     },
     "execution_count": 130,
     "metadata": {},
     "output_type": "execute_result"
    }
   ],
   "source": [
    "db.shape"
   ]
  },
  {
   "cell_type": "code",
   "execution_count": 132,
   "id": "beba0924-2af5-4745-860a-46e0e153e9a9",
   "metadata": {},
   "outputs": [
    {
     "data": {
      "text/html": [
       "<div>\n",
       "<style scoped>\n",
       "    .dataframe tbody tr th:only-of-type {\n",
       "        vertical-align: middle;\n",
       "    }\n",
       "\n",
       "    .dataframe tbody tr th {\n",
       "        vertical-align: top;\n",
       "    }\n",
       "\n",
       "    .dataframe thead th {\n",
       "        text-align: right;\n",
       "    }\n",
       "</style>\n",
       "<table border=\"1\" class=\"dataframe\">\n",
       "  <thead>\n",
       "    <tr style=\"text-align: right;\">\n",
       "      <th></th>\n",
       "      <th>film_id</th>\n",
       "      <th>release_year</th>\n",
       "      <th>language_id</th>\n",
       "      <th>rental_duration</th>\n",
       "      <th>rental_rate</th>\n",
       "      <th>length</th>\n",
       "      <th>replacement_cost</th>\n",
       "      <th>last_update</th>\n",
       "    </tr>\n",
       "  </thead>\n",
       "  <tbody>\n",
       "    <tr>\n",
       "      <th>count</th>\n",
       "      <td>1000.000000</td>\n",
       "      <td>1000.0</td>\n",
       "      <td>1000.0</td>\n",
       "      <td>1000.000000</td>\n",
       "      <td>1000.000000</td>\n",
       "      <td>1000.000000</td>\n",
       "      <td>1000.000000</td>\n",
       "      <td>1000</td>\n",
       "    </tr>\n",
       "    <tr>\n",
       "      <th>mean</th>\n",
       "      <td>500.500000</td>\n",
       "      <td>2006.0</td>\n",
       "      <td>1.0</td>\n",
       "      <td>4.985000</td>\n",
       "      <td>2.980000</td>\n",
       "      <td>115.272000</td>\n",
       "      <td>19.984000</td>\n",
       "      <td>2013-05-26 14:50:58.951000320</td>\n",
       "    </tr>\n",
       "    <tr>\n",
       "      <th>min</th>\n",
       "      <td>1.000000</td>\n",
       "      <td>2006.0</td>\n",
       "      <td>1.0</td>\n",
       "      <td>3.000000</td>\n",
       "      <td>0.990000</td>\n",
       "      <td>46.000000</td>\n",
       "      <td>9.990000</td>\n",
       "      <td>2013-05-26 14:50:58.951000</td>\n",
       "    </tr>\n",
       "    <tr>\n",
       "      <th>25%</th>\n",
       "      <td>250.750000</td>\n",
       "      <td>2006.0</td>\n",
       "      <td>1.0</td>\n",
       "      <td>4.000000</td>\n",
       "      <td>0.990000</td>\n",
       "      <td>80.000000</td>\n",
       "      <td>14.990000</td>\n",
       "      <td>2013-05-26 14:50:58.951000064</td>\n",
       "    </tr>\n",
       "    <tr>\n",
       "      <th>50%</th>\n",
       "      <td>500.500000</td>\n",
       "      <td>2006.0</td>\n",
       "      <td>1.0</td>\n",
       "      <td>5.000000</td>\n",
       "      <td>2.990000</td>\n",
       "      <td>114.000000</td>\n",
       "      <td>19.990000</td>\n",
       "      <td>2013-05-26 14:50:58.951000064</td>\n",
       "    </tr>\n",
       "    <tr>\n",
       "      <th>75%</th>\n",
       "      <td>750.250000</td>\n",
       "      <td>2006.0</td>\n",
       "      <td>1.0</td>\n",
       "      <td>6.000000</td>\n",
       "      <td>4.990000</td>\n",
       "      <td>149.250000</td>\n",
       "      <td>24.990000</td>\n",
       "      <td>2013-05-26 14:50:58.951000064</td>\n",
       "    </tr>\n",
       "    <tr>\n",
       "      <th>max</th>\n",
       "      <td>1000.000000</td>\n",
       "      <td>2006.0</td>\n",
       "      <td>1.0</td>\n",
       "      <td>7.000000</td>\n",
       "      <td>4.990000</td>\n",
       "      <td>185.000000</td>\n",
       "      <td>29.990000</td>\n",
       "      <td>2013-05-26 14:50:58.951000</td>\n",
       "    </tr>\n",
       "    <tr>\n",
       "      <th>std</th>\n",
       "      <td>288.819436</td>\n",
       "      <td>0.0</td>\n",
       "      <td>0.0</td>\n",
       "      <td>1.411654</td>\n",
       "      <td>1.646393</td>\n",
       "      <td>40.426332</td>\n",
       "      <td>6.050833</td>\n",
       "      <td>NaN</td>\n",
       "    </tr>\n",
       "  </tbody>\n",
       "</table>\n",
       "</div>"
      ],
      "text/plain": [
       "           film_id  release_year  language_id  rental_duration  rental_rate  \\\n",
       "count  1000.000000        1000.0       1000.0      1000.000000  1000.000000   \n",
       "mean    500.500000        2006.0          1.0         4.985000     2.980000   \n",
       "min       1.000000        2006.0          1.0         3.000000     0.990000   \n",
       "25%     250.750000        2006.0          1.0         4.000000     0.990000   \n",
       "50%     500.500000        2006.0          1.0         5.000000     2.990000   \n",
       "75%     750.250000        2006.0          1.0         6.000000     4.990000   \n",
       "max    1000.000000        2006.0          1.0         7.000000     4.990000   \n",
       "std     288.819436           0.0          0.0         1.411654     1.646393   \n",
       "\n",
       "            length  replacement_cost                    last_update  \n",
       "count  1000.000000       1000.000000                           1000  \n",
       "mean    115.272000         19.984000  2013-05-26 14:50:58.951000320  \n",
       "min      46.000000          9.990000     2013-05-26 14:50:58.951000  \n",
       "25%      80.000000         14.990000  2013-05-26 14:50:58.951000064  \n",
       "50%     114.000000         19.990000  2013-05-26 14:50:58.951000064  \n",
       "75%     149.250000         24.990000  2013-05-26 14:50:58.951000064  \n",
       "max     185.000000         29.990000     2013-05-26 14:50:58.951000  \n",
       "std      40.426332          6.050833                            NaN  "
      ]
     },
     "execution_count": 132,
     "metadata": {},
     "output_type": "execute_result"
    }
   ],
   "source": [
    "db.describe()"
   ]
  },
  {
   "cell_type": "code",
   "execution_count": 146,
   "id": "c1668722-9fe8-49ab-8402-bac6dfa469a3",
   "metadata": {},
   "outputs": [
    {
     "data": {
      "text/plain": [
       "array([7, 5, 6, 4, 3], dtype=int64)"
      ]
     },
     "execution_count": 146,
     "metadata": {},
     "output_type": "execute_result"
    }
   ],
   "source": [
    "db['rental_duration'].unique()"
   ]
  },
  {
   "cell_type": "code",
   "execution_count": 148,
   "id": "cbcfa374-e9f1-4d02-b1f7-618541f9ded0",
   "metadata": {},
   "outputs": [],
   "source": [
    "db_med = db['rental_duration'].value_counts()"
   ]
  },
  {
   "cell_type": "code",
   "execution_count": 150,
   "id": "accde85d-0d3b-41d2-ae19-39c9f055e375",
   "metadata": {},
   "outputs": [
    {
     "data": {
      "text/plain": [
       "rental_duration\n",
       "6    212\n",
       "4    203\n",
       "3    203\n",
       "7    191\n",
       "5    191\n",
       "Name: count, dtype: int64"
      ]
     },
     "execution_count": 150,
     "metadata": {},
     "output_type": "execute_result"
    }
   ],
   "source": [
    "db_med"
   ]
  },
  {
   "cell_type": "code",
   "execution_count": 165,
   "id": "319bf8fa-27cf-46c8-86e3-3878682eedf8",
   "metadata": {},
   "outputs": [
    {
     "data": {
      "text/plain": [
       "<Axes: >"
      ]
     },
     "execution_count": 165,
     "metadata": {},
     "output_type": "execute_result"
    },
    {
     "data": {
      "image/png": "[encoded data removed]",
      "text/plain": [
       "<Figure size 640x480 with 1 Axes>"
      ]
     },
     "metadata": {},
     "output_type": "display_data"
    }
   ],
   "source": [
    "db['rental_duration'].hist(bins = 10)"
   ]
  },
  {
   "cell_type": "code",
   "execution_count": null,
   "id": "3b003a99-957a-4f05-bfa9-54f64ea61868",
   "metadata": {},
   "outputs": [],
   "source": []
  }
 ],
 "metadata": {
  "kernelspec": {
   "display_name": "Python 3 (ipykernel)",
   "language": "python",
   "name": "python3"
  },
  "language_info": {
   "codemirror_mode": {
    "name": "ipython",
    "version": 3
   },
   "file_extension": ".py",
   "mimetype": "text/x-python",
   "name": "python",
   "nbconvert_exporter": "python",
   "pygments_lexer": "ipython3",
   "version": "3.12.4"
  }
 },
 "nbformat": 4,
 "nbformat_minor": 5
}
